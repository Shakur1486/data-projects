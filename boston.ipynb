{
 "cells": [
  {
   "cell_type": "code",
   "execution_count": 1,
   "id": "d3a4d2e1-e90b-4a96-b67e-26ebdbf1fa71",
   "metadata": {},
   "outputs": [],
   "source": [
    "#importing the libraries\n",
    "\n",
    "import pandas as pd\n",
    "import numpy as np\n",
    "import matplotlib.pyplot as plt\n",
    "import seaborn as sns\n",
    "from sklearn import metrics"
   ]
  },
  {
   "cell_type": "code",
   "execution_count": 2,
   "id": "8dfdaae8-44c1-41f4-b8ba-d4ce3231ac65",
   "metadata": {},
   "outputs": [],
   "source": [
    "#loading the housing data into dataframe\n",
    "\n",
    "df = pd.read_csv(\"housingg.csv\",header=None, delim_whitespace=True) "
   ]
  },
  {
   "cell_type": "code",
   "execution_count": 3,
   "id": "37928a03-4938-4522-a6c9-53ea98fa0d9c",
   "metadata": {},
   "outputs": [
    {
     "data": {
      "text/html": [
       "<div>\n",
       "<style scoped>\n",
       "    .dataframe tbody tr th:only-of-type {\n",
       "        vertical-align: middle;\n",
       "    }\n",
       "\n",
       "    .dataframe tbody tr th {\n",
       "        vertical-align: top;\n",
       "    }\n",
       "\n",
       "    .dataframe thead th {\n",
       "        text-align: right;\n",
       "    }\n",
       "</style>\n",
       "<table border=\"1\" class=\"dataframe\">\n",
       "  <thead>\n",
       "    <tr style=\"text-align: right;\">\n",
       "      <th></th>\n",
       "      <th>0</th>\n",
       "      <th>1</th>\n",
       "      <th>2</th>\n",
       "      <th>3</th>\n",
       "      <th>4</th>\n",
       "      <th>5</th>\n",
       "      <th>6</th>\n",
       "      <th>7</th>\n",
       "      <th>8</th>\n",
       "      <th>9</th>\n",
       "      <th>10</th>\n",
       "      <th>11</th>\n",
       "      <th>12</th>\n",
       "      <th>13</th>\n",
       "    </tr>\n",
       "  </thead>\n",
       "  <tbody>\n",
       "    <tr>\n",
       "      <th>0</th>\n",
       "      <td>0.00632</td>\n",
       "      <td>18.0</td>\n",
       "      <td>2.31</td>\n",
       "      <td>0</td>\n",
       "      <td>0.538</td>\n",
       "      <td>6.575</td>\n",
       "      <td>65.2</td>\n",
       "      <td>4.0900</td>\n",
       "      <td>1</td>\n",
       "      <td>296.0</td>\n",
       "      <td>15.3</td>\n",
       "      <td>396.90</td>\n",
       "      <td>4.98</td>\n",
       "      <td>24.0</td>\n",
       "    </tr>\n",
       "    <tr>\n",
       "      <th>1</th>\n",
       "      <td>0.02731</td>\n",
       "      <td>0.0</td>\n",
       "      <td>7.07</td>\n",
       "      <td>0</td>\n",
       "      <td>0.469</td>\n",
       "      <td>6.421</td>\n",
       "      <td>78.9</td>\n",
       "      <td>4.9671</td>\n",
       "      <td>2</td>\n",
       "      <td>242.0</td>\n",
       "      <td>17.8</td>\n",
       "      <td>396.90</td>\n",
       "      <td>9.14</td>\n",
       "      <td>21.6</td>\n",
       "    </tr>\n",
       "    <tr>\n",
       "      <th>2</th>\n",
       "      <td>0.02729</td>\n",
       "      <td>0.0</td>\n",
       "      <td>7.07</td>\n",
       "      <td>0</td>\n",
       "      <td>0.469</td>\n",
       "      <td>7.185</td>\n",
       "      <td>61.1</td>\n",
       "      <td>4.9671</td>\n",
       "      <td>2</td>\n",
       "      <td>242.0</td>\n",
       "      <td>17.8</td>\n",
       "      <td>392.83</td>\n",
       "      <td>4.03</td>\n",
       "      <td>34.7</td>\n",
       "    </tr>\n",
       "    <tr>\n",
       "      <th>3</th>\n",
       "      <td>0.03237</td>\n",
       "      <td>0.0</td>\n",
       "      <td>2.18</td>\n",
       "      <td>0</td>\n",
       "      <td>0.458</td>\n",
       "      <td>6.998</td>\n",
       "      <td>45.8</td>\n",
       "      <td>6.0622</td>\n",
       "      <td>3</td>\n",
       "      <td>222.0</td>\n",
       "      <td>18.7</td>\n",
       "      <td>394.63</td>\n",
       "      <td>2.94</td>\n",
       "      <td>33.4</td>\n",
       "    </tr>\n",
       "    <tr>\n",
       "      <th>4</th>\n",
       "      <td>0.06905</td>\n",
       "      <td>0.0</td>\n",
       "      <td>2.18</td>\n",
       "      <td>0</td>\n",
       "      <td>0.458</td>\n",
       "      <td>7.147</td>\n",
       "      <td>54.2</td>\n",
       "      <td>6.0622</td>\n",
       "      <td>3</td>\n",
       "      <td>222.0</td>\n",
       "      <td>18.7</td>\n",
       "      <td>396.90</td>\n",
       "      <td>5.33</td>\n",
       "      <td>36.2</td>\n",
       "    </tr>\n",
       "  </tbody>\n",
       "</table>\n",
       "</div>"
      ],
      "text/plain": [
       "        0     1     2   3      4      5     6       7   8      9     10  \\\n",
       "0  0.00632  18.0  2.31   0  0.538  6.575  65.2  4.0900   1  296.0  15.3   \n",
       "1  0.02731   0.0  7.07   0  0.469  6.421  78.9  4.9671   2  242.0  17.8   \n",
       "2  0.02729   0.0  7.07   0  0.469  7.185  61.1  4.9671   2  242.0  17.8   \n",
       "3  0.03237   0.0  2.18   0  0.458  6.998  45.8  6.0622   3  222.0  18.7   \n",
       "4  0.06905   0.0  2.18   0  0.458  7.147  54.2  6.0622   3  222.0  18.7   \n",
       "\n",
       "       11    12    13  \n",
       "0  396.90  4.98  24.0  \n",
       "1  396.90  9.14  21.6  \n",
       "2  392.83  4.03  34.7  \n",
       "3  394.63  2.94  33.4  \n",
       "4  396.90  5.33  36.2  "
      ]
     },
     "execution_count": 3,
     "metadata": {},
     "output_type": "execute_result"
    }
   ],
   "source": [
    "#check the head of the data\n",
    "\n",
    "df.head()"
   ]
  },
  {
   "cell_type": "code",
   "execution_count": 4,
   "id": "22661359-1264-47e9-bd05-dc3555717355",
   "metadata": {},
   "outputs": [],
   "source": [
    "#creating a list of the column names\n",
    "\n",
    "column_names = ['CRIM','ZN', 'INDUS', 'CHAS', 'NOX', 'RM', 'AGE', 'DIS', 'RAD', 'TAX', 'PTRATIO','B','LSTAT','MEDV']"
   ]
  },
  {
   "cell_type": "code",
   "execution_count": 5,
   "id": "0963319c-8d10-4fbb-b515-0507415eacb5",
   "metadata": {},
   "outputs": [],
   "source": [
    "#assigning column names to the data columns\n",
    "df.columns =  column_names = ['CRIM','ZN', 'INDUS', 'CHAS', 'NOX', 'RM', 'AGE', 'DIS', 'RAD', 'TAX', 'PTRATIO','B','LSTAT','MEDV']"
   ]
  },
  {
   "cell_type": "code",
   "execution_count": 6,
   "id": "9f72b46b-bb84-4475-83bc-863fd342e4d5",
   "metadata": {},
   "outputs": [
    {
     "data": {
      "text/html": [
       "<div>\n",
       "<style scoped>\n",
       "    .dataframe tbody tr th:only-of-type {\n",
       "        vertical-align: middle;\n",
       "    }\n",
       "\n",
       "    .dataframe tbody tr th {\n",
       "        vertical-align: top;\n",
       "    }\n",
       "\n",
       "    .dataframe thead th {\n",
       "        text-align: right;\n",
       "    }\n",
       "</style>\n",
       "<table border=\"1\" class=\"dataframe\">\n",
       "  <thead>\n",
       "    <tr style=\"text-align: right;\">\n",
       "      <th></th>\n",
       "      <th>CRIM</th>\n",
       "      <th>ZN</th>\n",
       "      <th>INDUS</th>\n",
       "      <th>CHAS</th>\n",
       "      <th>NOX</th>\n",
       "      <th>RM</th>\n",
       "      <th>AGE</th>\n",
       "      <th>DIS</th>\n",
       "      <th>RAD</th>\n",
       "      <th>TAX</th>\n",
       "      <th>PTRATIO</th>\n",
       "      <th>B</th>\n",
       "      <th>LSTAT</th>\n",
       "      <th>MEDV</th>\n",
       "    </tr>\n",
       "  </thead>\n",
       "  <tbody>\n",
       "    <tr>\n",
       "      <th>0</th>\n",
       "      <td>0.00632</td>\n",
       "      <td>18.0</td>\n",
       "      <td>2.31</td>\n",
       "      <td>0</td>\n",
       "      <td>0.538</td>\n",
       "      <td>6.575</td>\n",
       "      <td>65.2</td>\n",
       "      <td>4.0900</td>\n",
       "      <td>1</td>\n",
       "      <td>296.0</td>\n",
       "      <td>15.3</td>\n",
       "      <td>396.90</td>\n",
       "      <td>4.98</td>\n",
       "      <td>24.0</td>\n",
       "    </tr>\n",
       "    <tr>\n",
       "      <th>1</th>\n",
       "      <td>0.02731</td>\n",
       "      <td>0.0</td>\n",
       "      <td>7.07</td>\n",
       "      <td>0</td>\n",
       "      <td>0.469</td>\n",
       "      <td>6.421</td>\n",
       "      <td>78.9</td>\n",
       "      <td>4.9671</td>\n",
       "      <td>2</td>\n",
       "      <td>242.0</td>\n",
       "      <td>17.8</td>\n",
       "      <td>396.90</td>\n",
       "      <td>9.14</td>\n",
       "      <td>21.6</td>\n",
       "    </tr>\n",
       "    <tr>\n",
       "      <th>2</th>\n",
       "      <td>0.02729</td>\n",
       "      <td>0.0</td>\n",
       "      <td>7.07</td>\n",
       "      <td>0</td>\n",
       "      <td>0.469</td>\n",
       "      <td>7.185</td>\n",
       "      <td>61.1</td>\n",
       "      <td>4.9671</td>\n",
       "      <td>2</td>\n",
       "      <td>242.0</td>\n",
       "      <td>17.8</td>\n",
       "      <td>392.83</td>\n",
       "      <td>4.03</td>\n",
       "      <td>34.7</td>\n",
       "    </tr>\n",
       "    <tr>\n",
       "      <th>3</th>\n",
       "      <td>0.03237</td>\n",
       "      <td>0.0</td>\n",
       "      <td>2.18</td>\n",
       "      <td>0</td>\n",
       "      <td>0.458</td>\n",
       "      <td>6.998</td>\n",
       "      <td>45.8</td>\n",
       "      <td>6.0622</td>\n",
       "      <td>3</td>\n",
       "      <td>222.0</td>\n",
       "      <td>18.7</td>\n",
       "      <td>394.63</td>\n",
       "      <td>2.94</td>\n",
       "      <td>33.4</td>\n",
       "    </tr>\n",
       "    <tr>\n",
       "      <th>4</th>\n",
       "      <td>0.06905</td>\n",
       "      <td>0.0</td>\n",
       "      <td>2.18</td>\n",
       "      <td>0</td>\n",
       "      <td>0.458</td>\n",
       "      <td>7.147</td>\n",
       "      <td>54.2</td>\n",
       "      <td>6.0622</td>\n",
       "      <td>3</td>\n",
       "      <td>222.0</td>\n",
       "      <td>18.7</td>\n",
       "      <td>396.90</td>\n",
       "      <td>5.33</td>\n",
       "      <td>36.2</td>\n",
       "    </tr>\n",
       "  </tbody>\n",
       "</table>\n",
       "</div>"
      ],
      "text/plain": [
       "      CRIM    ZN  INDUS  CHAS    NOX     RM   AGE     DIS  RAD    TAX  \\\n",
       "0  0.00632  18.0   2.31     0  0.538  6.575  65.2  4.0900    1  296.0   \n",
       "1  0.02731   0.0   7.07     0  0.469  6.421  78.9  4.9671    2  242.0   \n",
       "2  0.02729   0.0   7.07     0  0.469  7.185  61.1  4.9671    2  242.0   \n",
       "3  0.03237   0.0   2.18     0  0.458  6.998  45.8  6.0622    3  222.0   \n",
       "4  0.06905   0.0   2.18     0  0.458  7.147  54.2  6.0622    3  222.0   \n",
       "\n",
       "   PTRATIO       B  LSTAT  MEDV  \n",
       "0     15.3  396.90   4.98  24.0  \n",
       "1     17.8  396.90   9.14  21.6  \n",
       "2     17.8  392.83   4.03  34.7  \n",
       "3     18.7  394.63   2.94  33.4  \n",
       "4     18.7  396.90   5.33  36.2  "
      ]
     },
     "execution_count": 6,
     "metadata": {},
     "output_type": "execute_result"
    }
   ],
   "source": [
    "#checking the head again to confirm column names\n",
    "df.head()"
   ]
  },
  {
   "cell_type": "code",
   "execution_count": 7,
   "id": "6c4eaa79-58f2-4a2d-ba31-38e80c77ec75",
   "metadata": {},
   "outputs": [
    {
     "name": "stdout",
     "output_type": "stream",
     "text": [
      "<class 'pandas.core.frame.DataFrame'>\n",
      "RangeIndex: 506 entries, 0 to 505\n",
      "Data columns (total 14 columns):\n",
      " #   Column   Non-Null Count  Dtype  \n",
      "---  ------   --------------  -----  \n",
      " 0   CRIM     506 non-null    float64\n",
      " 1   ZN       506 non-null    float64\n",
      " 2   INDUS    506 non-null    float64\n",
      " 3   CHAS     506 non-null    int64  \n",
      " 4   NOX      506 non-null    float64\n",
      " 5   RM       506 non-null    float64\n",
      " 6   AGE      506 non-null    float64\n",
      " 7   DIS      506 non-null    float64\n",
      " 8   RAD      506 non-null    int64  \n",
      " 9   TAX      506 non-null    float64\n",
      " 10  PTRATIO  506 non-null    float64\n",
      " 11  B        506 non-null    float64\n",
      " 12  LSTAT    506 non-null    float64\n",
      " 13  MEDV     506 non-null    float64\n",
      "dtypes: float64(12), int64(2)\n",
      "memory usage: 55.5 KB\n"
     ]
    }
   ],
   "source": [
    "#check data information \n",
    "\n",
    "df.info()"
   ]
  },
  {
   "cell_type": "code",
   "execution_count": 8,
   "id": "c54c0281-595e-4d83-81f1-c44077101719",
   "metadata": {},
   "outputs": [
    {
     "data": {
      "text/plain": [
       "CRIM       0\n",
       "ZN         0\n",
       "INDUS      0\n",
       "CHAS       0\n",
       "NOX        0\n",
       "RM         0\n",
       "AGE        0\n",
       "DIS        0\n",
       "RAD        0\n",
       "TAX        0\n",
       "PTRATIO    0\n",
       "B          0\n",
       "LSTAT      0\n",
       "MEDV       0\n",
       "dtype: int64"
      ]
     },
     "execution_count": 8,
     "metadata": {},
     "output_type": "execute_result"
    }
   ],
   "source": [
    "#check for null values\n",
    "\n",
    "df.isnull().sum()"
   ]
  },
  {
   "cell_type": "code",
   "execution_count": 9,
   "id": "d7529a9c-0486-4a08-bc9f-6a2646c468b2",
   "metadata": {},
   "outputs": [
    {
     "data": {
      "text/plain": [
       "(506, 14)"
      ]
     },
     "execution_count": 9,
     "metadata": {},
     "output_type": "execute_result"
    }
   ],
   "source": [
    "#check for the shape of datset\n",
    "\n",
    "df.shape"
   ]
  },
  {
   "cell_type": "code",
   "execution_count": 10,
   "id": "feaaa1e1-6e8e-4bbc-894e-efb77346f638",
   "metadata": {},
   "outputs": [],
   "source": [
    "#Assigning column price which is the target to Median value of owner-occupied homes in $1000s \n",
    "\n",
    "df['Price'] = df.MEDV"
   ]
  },
  {
   "cell_type": "code",
   "execution_count": 11,
   "id": "9d2cca0e-94ce-440a-82fe-9cad6d38dce6",
   "metadata": {},
   "outputs": [
    {
     "data": {
      "text/plain": [
       "Index(['CRIM', 'ZN', 'INDUS', 'CHAS', 'NOX', 'RM', 'AGE', 'DIS', 'RAD', 'TAX',\n",
       "       'PTRATIO', 'B', 'LSTAT', 'Price'],\n",
       "      dtype='object')"
      ]
     },
     "execution_count": 11,
     "metadata": {},
     "output_type": "execute_result"
    }
   ],
   "source": [
    "#dropping the median value column\n",
    "\n",
    "df = df.drop('MEDV', axis =1)\n",
    "df.columns"
   ]
  },
  {
   "cell_type": "code",
   "execution_count": 12,
   "id": "26c910cb-1b24-40bd-9a89-4a82de203c5f",
   "metadata": {},
   "outputs": [
    {
     "data": {
      "text/html": [
       "<div>\n",
       "<style scoped>\n",
       "    .dataframe tbody tr th:only-of-type {\n",
       "        vertical-align: middle;\n",
       "    }\n",
       "\n",
       "    .dataframe tbody tr th {\n",
       "        vertical-align: top;\n",
       "    }\n",
       "\n",
       "    .dataframe thead th {\n",
       "        text-align: right;\n",
       "    }\n",
       "</style>\n",
       "<table border=\"1\" class=\"dataframe\">\n",
       "  <thead>\n",
       "    <tr style=\"text-align: right;\">\n",
       "      <th></th>\n",
       "      <th>CRIM</th>\n",
       "      <th>ZN</th>\n",
       "      <th>INDUS</th>\n",
       "      <th>CHAS</th>\n",
       "      <th>NOX</th>\n",
       "      <th>RM</th>\n",
       "      <th>AGE</th>\n",
       "      <th>DIS</th>\n",
       "      <th>RAD</th>\n",
       "      <th>TAX</th>\n",
       "      <th>PTRATIO</th>\n",
       "      <th>B</th>\n",
       "      <th>LSTAT</th>\n",
       "      <th>Price</th>\n",
       "    </tr>\n",
       "  </thead>\n",
       "  <tbody>\n",
       "    <tr>\n",
       "      <th>count</th>\n",
       "      <td>506.000000</td>\n",
       "      <td>506.000000</td>\n",
       "      <td>506.000000</td>\n",
       "      <td>506.000000</td>\n",
       "      <td>506.000000</td>\n",
       "      <td>506.000000</td>\n",
       "      <td>506.000000</td>\n",
       "      <td>506.000000</td>\n",
       "      <td>506.000000</td>\n",
       "      <td>506.000000</td>\n",
       "      <td>506.000000</td>\n",
       "      <td>506.000000</td>\n",
       "      <td>506.000000</td>\n",
       "      <td>506.000000</td>\n",
       "    </tr>\n",
       "    <tr>\n",
       "      <th>mean</th>\n",
       "      <td>3.613524</td>\n",
       "      <td>11.363636</td>\n",
       "      <td>11.136779</td>\n",
       "      <td>0.069170</td>\n",
       "      <td>0.554695</td>\n",
       "      <td>6.284634</td>\n",
       "      <td>68.574901</td>\n",
       "      <td>3.795043</td>\n",
       "      <td>9.549407</td>\n",
       "      <td>408.237154</td>\n",
       "      <td>18.455534</td>\n",
       "      <td>356.674032</td>\n",
       "      <td>12.653063</td>\n",
       "      <td>22.532806</td>\n",
       "    </tr>\n",
       "    <tr>\n",
       "      <th>std</th>\n",
       "      <td>8.601545</td>\n",
       "      <td>23.322453</td>\n",
       "      <td>6.860353</td>\n",
       "      <td>0.253994</td>\n",
       "      <td>0.115878</td>\n",
       "      <td>0.702617</td>\n",
       "      <td>28.148861</td>\n",
       "      <td>2.105710</td>\n",
       "      <td>8.707259</td>\n",
       "      <td>168.537116</td>\n",
       "      <td>2.164946</td>\n",
       "      <td>91.294864</td>\n",
       "      <td>7.141062</td>\n",
       "      <td>9.197104</td>\n",
       "    </tr>\n",
       "    <tr>\n",
       "      <th>min</th>\n",
       "      <td>0.006320</td>\n",
       "      <td>0.000000</td>\n",
       "      <td>0.460000</td>\n",
       "      <td>0.000000</td>\n",
       "      <td>0.385000</td>\n",
       "      <td>3.561000</td>\n",
       "      <td>2.900000</td>\n",
       "      <td>1.129600</td>\n",
       "      <td>1.000000</td>\n",
       "      <td>187.000000</td>\n",
       "      <td>12.600000</td>\n",
       "      <td>0.320000</td>\n",
       "      <td>1.730000</td>\n",
       "      <td>5.000000</td>\n",
       "    </tr>\n",
       "    <tr>\n",
       "      <th>25%</th>\n",
       "      <td>0.082045</td>\n",
       "      <td>0.000000</td>\n",
       "      <td>5.190000</td>\n",
       "      <td>0.000000</td>\n",
       "      <td>0.449000</td>\n",
       "      <td>5.885500</td>\n",
       "      <td>45.025000</td>\n",
       "      <td>2.100175</td>\n",
       "      <td>4.000000</td>\n",
       "      <td>279.000000</td>\n",
       "      <td>17.400000</td>\n",
       "      <td>375.377500</td>\n",
       "      <td>6.950000</td>\n",
       "      <td>17.025000</td>\n",
       "    </tr>\n",
       "    <tr>\n",
       "      <th>50%</th>\n",
       "      <td>0.256510</td>\n",
       "      <td>0.000000</td>\n",
       "      <td>9.690000</td>\n",
       "      <td>0.000000</td>\n",
       "      <td>0.538000</td>\n",
       "      <td>6.208500</td>\n",
       "      <td>77.500000</td>\n",
       "      <td>3.207450</td>\n",
       "      <td>5.000000</td>\n",
       "      <td>330.000000</td>\n",
       "      <td>19.050000</td>\n",
       "      <td>391.440000</td>\n",
       "      <td>11.360000</td>\n",
       "      <td>21.200000</td>\n",
       "    </tr>\n",
       "    <tr>\n",
       "      <th>75%</th>\n",
       "      <td>3.677083</td>\n",
       "      <td>12.500000</td>\n",
       "      <td>18.100000</td>\n",
       "      <td>0.000000</td>\n",
       "      <td>0.624000</td>\n",
       "      <td>6.623500</td>\n",
       "      <td>94.075000</td>\n",
       "      <td>5.188425</td>\n",
       "      <td>24.000000</td>\n",
       "      <td>666.000000</td>\n",
       "      <td>20.200000</td>\n",
       "      <td>396.225000</td>\n",
       "      <td>16.955000</td>\n",
       "      <td>25.000000</td>\n",
       "    </tr>\n",
       "    <tr>\n",
       "      <th>max</th>\n",
       "      <td>88.976200</td>\n",
       "      <td>100.000000</td>\n",
       "      <td>27.740000</td>\n",
       "      <td>1.000000</td>\n",
       "      <td>0.871000</td>\n",
       "      <td>8.780000</td>\n",
       "      <td>100.000000</td>\n",
       "      <td>12.126500</td>\n",
       "      <td>24.000000</td>\n",
       "      <td>711.000000</td>\n",
       "      <td>22.000000</td>\n",
       "      <td>396.900000</td>\n",
       "      <td>37.970000</td>\n",
       "      <td>50.000000</td>\n",
       "    </tr>\n",
       "  </tbody>\n",
       "</table>\n",
       "</div>"
      ],
      "text/plain": [
       "             CRIM          ZN       INDUS        CHAS         NOX          RM  \\\n",
       "count  506.000000  506.000000  506.000000  506.000000  506.000000  506.000000   \n",
       "mean     3.613524   11.363636   11.136779    0.069170    0.554695    6.284634   \n",
       "std      8.601545   23.322453    6.860353    0.253994    0.115878    0.702617   \n",
       "min      0.006320    0.000000    0.460000    0.000000    0.385000    3.561000   \n",
       "25%      0.082045    0.000000    5.190000    0.000000    0.449000    5.885500   \n",
       "50%      0.256510    0.000000    9.690000    0.000000    0.538000    6.208500   \n",
       "75%      3.677083   12.500000   18.100000    0.000000    0.624000    6.623500   \n",
       "max     88.976200  100.000000   27.740000    1.000000    0.871000    8.780000   \n",
       "\n",
       "              AGE         DIS         RAD         TAX     PTRATIO           B  \\\n",
       "count  506.000000  506.000000  506.000000  506.000000  506.000000  506.000000   \n",
       "mean    68.574901    3.795043    9.549407  408.237154   18.455534  356.674032   \n",
       "std     28.148861    2.105710    8.707259  168.537116    2.164946   91.294864   \n",
       "min      2.900000    1.129600    1.000000  187.000000   12.600000    0.320000   \n",
       "25%     45.025000    2.100175    4.000000  279.000000   17.400000  375.377500   \n",
       "50%     77.500000    3.207450    5.000000  330.000000   19.050000  391.440000   \n",
       "75%     94.075000    5.188425   24.000000  666.000000   20.200000  396.225000   \n",
       "max    100.000000   12.126500   24.000000  711.000000   22.000000  396.900000   \n",
       "\n",
       "            LSTAT       Price  \n",
       "count  506.000000  506.000000  \n",
       "mean    12.653063   22.532806  \n",
       "std      7.141062    9.197104  \n",
       "min      1.730000    5.000000  \n",
       "25%      6.950000   17.025000  \n",
       "50%     11.360000   21.200000  \n",
       "75%     16.955000   25.000000  \n",
       "max     37.970000   50.000000  "
      ]
     },
     "execution_count": 12,
     "metadata": {},
     "output_type": "execute_result"
    }
   ],
   "source": [
    "#check the description of the data\n",
    "\n",
    "df.describe()"
   ]
  },
  {
   "cell_type": "code",
   "execution_count": 13,
   "id": "ee095b13-e686-41f4-8512-ce2da6cb6c80",
   "metadata": {},
   "outputs": [
    {
     "data": {
      "text/html": [
       "<div>\n",
       "<style scoped>\n",
       "    .dataframe tbody tr th:only-of-type {\n",
       "        vertical-align: middle;\n",
       "    }\n",
       "\n",
       "    .dataframe tbody tr th {\n",
       "        vertical-align: top;\n",
       "    }\n",
       "\n",
       "    .dataframe thead th {\n",
       "        text-align: right;\n",
       "    }\n",
       "</style>\n",
       "<table border=\"1\" class=\"dataframe\">\n",
       "  <thead>\n",
       "    <tr style=\"text-align: right;\">\n",
       "      <th></th>\n",
       "      <th>CRIM</th>\n",
       "      <th>ZN</th>\n",
       "      <th>INDUS</th>\n",
       "      <th>CHAS</th>\n",
       "      <th>NOX</th>\n",
       "      <th>RM</th>\n",
       "      <th>AGE</th>\n",
       "      <th>DIS</th>\n",
       "      <th>RAD</th>\n",
       "      <th>TAX</th>\n",
       "      <th>PTRATIO</th>\n",
       "      <th>B</th>\n",
       "      <th>LSTAT</th>\n",
       "      <th>Price</th>\n",
       "    </tr>\n",
       "  </thead>\n",
       "  <tbody>\n",
       "    <tr>\n",
       "      <th>CRIM</th>\n",
       "      <td>1.000000</td>\n",
       "      <td>-0.200469</td>\n",
       "      <td>0.406583</td>\n",
       "      <td>-0.055892</td>\n",
       "      <td>0.420972</td>\n",
       "      <td>-0.219247</td>\n",
       "      <td>0.352734</td>\n",
       "      <td>-0.379670</td>\n",
       "      <td>0.625505</td>\n",
       "      <td>0.582764</td>\n",
       "      <td>0.289946</td>\n",
       "      <td>-0.385064</td>\n",
       "      <td>0.455621</td>\n",
       "      <td>-0.388305</td>\n",
       "    </tr>\n",
       "    <tr>\n",
       "      <th>ZN</th>\n",
       "      <td>-0.200469</td>\n",
       "      <td>1.000000</td>\n",
       "      <td>-0.533828</td>\n",
       "      <td>-0.042697</td>\n",
       "      <td>-0.516604</td>\n",
       "      <td>0.311991</td>\n",
       "      <td>-0.569537</td>\n",
       "      <td>0.664408</td>\n",
       "      <td>-0.311948</td>\n",
       "      <td>-0.314563</td>\n",
       "      <td>-0.391679</td>\n",
       "      <td>0.175520</td>\n",
       "      <td>-0.412995</td>\n",
       "      <td>0.360445</td>\n",
       "    </tr>\n",
       "    <tr>\n",
       "      <th>INDUS</th>\n",
       "      <td>0.406583</td>\n",
       "      <td>-0.533828</td>\n",
       "      <td>1.000000</td>\n",
       "      <td>0.062938</td>\n",
       "      <td>0.763651</td>\n",
       "      <td>-0.391676</td>\n",
       "      <td>0.644779</td>\n",
       "      <td>-0.708027</td>\n",
       "      <td>0.595129</td>\n",
       "      <td>0.720760</td>\n",
       "      <td>0.383248</td>\n",
       "      <td>-0.356977</td>\n",
       "      <td>0.603800</td>\n",
       "      <td>-0.483725</td>\n",
       "    </tr>\n",
       "    <tr>\n",
       "      <th>CHAS</th>\n",
       "      <td>-0.055892</td>\n",
       "      <td>-0.042697</td>\n",
       "      <td>0.062938</td>\n",
       "      <td>1.000000</td>\n",
       "      <td>0.091203</td>\n",
       "      <td>0.091251</td>\n",
       "      <td>0.086518</td>\n",
       "      <td>-0.099176</td>\n",
       "      <td>-0.007368</td>\n",
       "      <td>-0.035587</td>\n",
       "      <td>-0.121515</td>\n",
       "      <td>0.048788</td>\n",
       "      <td>-0.053929</td>\n",
       "      <td>0.175260</td>\n",
       "    </tr>\n",
       "    <tr>\n",
       "      <th>NOX</th>\n",
       "      <td>0.420972</td>\n",
       "      <td>-0.516604</td>\n",
       "      <td>0.763651</td>\n",
       "      <td>0.091203</td>\n",
       "      <td>1.000000</td>\n",
       "      <td>-0.302188</td>\n",
       "      <td>0.731470</td>\n",
       "      <td>-0.769230</td>\n",
       "      <td>0.611441</td>\n",
       "      <td>0.668023</td>\n",
       "      <td>0.188933</td>\n",
       "      <td>-0.380051</td>\n",
       "      <td>0.590879</td>\n",
       "      <td>-0.427321</td>\n",
       "    </tr>\n",
       "    <tr>\n",
       "      <th>RM</th>\n",
       "      <td>-0.219247</td>\n",
       "      <td>0.311991</td>\n",
       "      <td>-0.391676</td>\n",
       "      <td>0.091251</td>\n",
       "      <td>-0.302188</td>\n",
       "      <td>1.000000</td>\n",
       "      <td>-0.240265</td>\n",
       "      <td>0.205246</td>\n",
       "      <td>-0.209847</td>\n",
       "      <td>-0.292048</td>\n",
       "      <td>-0.355501</td>\n",
       "      <td>0.128069</td>\n",
       "      <td>-0.613808</td>\n",
       "      <td>0.695360</td>\n",
       "    </tr>\n",
       "    <tr>\n",
       "      <th>AGE</th>\n",
       "      <td>0.352734</td>\n",
       "      <td>-0.569537</td>\n",
       "      <td>0.644779</td>\n",
       "      <td>0.086518</td>\n",
       "      <td>0.731470</td>\n",
       "      <td>-0.240265</td>\n",
       "      <td>1.000000</td>\n",
       "      <td>-0.747881</td>\n",
       "      <td>0.456022</td>\n",
       "      <td>0.506456</td>\n",
       "      <td>0.261515</td>\n",
       "      <td>-0.273534</td>\n",
       "      <td>0.602339</td>\n",
       "      <td>-0.376955</td>\n",
       "    </tr>\n",
       "    <tr>\n",
       "      <th>DIS</th>\n",
       "      <td>-0.379670</td>\n",
       "      <td>0.664408</td>\n",
       "      <td>-0.708027</td>\n",
       "      <td>-0.099176</td>\n",
       "      <td>-0.769230</td>\n",
       "      <td>0.205246</td>\n",
       "      <td>-0.747881</td>\n",
       "      <td>1.000000</td>\n",
       "      <td>-0.494588</td>\n",
       "      <td>-0.534432</td>\n",
       "      <td>-0.232471</td>\n",
       "      <td>0.291512</td>\n",
       "      <td>-0.496996</td>\n",
       "      <td>0.249929</td>\n",
       "    </tr>\n",
       "    <tr>\n",
       "      <th>RAD</th>\n",
       "      <td>0.625505</td>\n",
       "      <td>-0.311948</td>\n",
       "      <td>0.595129</td>\n",
       "      <td>-0.007368</td>\n",
       "      <td>0.611441</td>\n",
       "      <td>-0.209847</td>\n",
       "      <td>0.456022</td>\n",
       "      <td>-0.494588</td>\n",
       "      <td>1.000000</td>\n",
       "      <td>0.910228</td>\n",
       "      <td>0.464741</td>\n",
       "      <td>-0.444413</td>\n",
       "      <td>0.488676</td>\n",
       "      <td>-0.381626</td>\n",
       "    </tr>\n",
       "    <tr>\n",
       "      <th>TAX</th>\n",
       "      <td>0.582764</td>\n",
       "      <td>-0.314563</td>\n",
       "      <td>0.720760</td>\n",
       "      <td>-0.035587</td>\n",
       "      <td>0.668023</td>\n",
       "      <td>-0.292048</td>\n",
       "      <td>0.506456</td>\n",
       "      <td>-0.534432</td>\n",
       "      <td>0.910228</td>\n",
       "      <td>1.000000</td>\n",
       "      <td>0.460853</td>\n",
       "      <td>-0.441808</td>\n",
       "      <td>0.543993</td>\n",
       "      <td>-0.468536</td>\n",
       "    </tr>\n",
       "    <tr>\n",
       "      <th>PTRATIO</th>\n",
       "      <td>0.289946</td>\n",
       "      <td>-0.391679</td>\n",
       "      <td>0.383248</td>\n",
       "      <td>-0.121515</td>\n",
       "      <td>0.188933</td>\n",
       "      <td>-0.355501</td>\n",
       "      <td>0.261515</td>\n",
       "      <td>-0.232471</td>\n",
       "      <td>0.464741</td>\n",
       "      <td>0.460853</td>\n",
       "      <td>1.000000</td>\n",
       "      <td>-0.177383</td>\n",
       "      <td>0.374044</td>\n",
       "      <td>-0.507787</td>\n",
       "    </tr>\n",
       "    <tr>\n",
       "      <th>B</th>\n",
       "      <td>-0.385064</td>\n",
       "      <td>0.175520</td>\n",
       "      <td>-0.356977</td>\n",
       "      <td>0.048788</td>\n",
       "      <td>-0.380051</td>\n",
       "      <td>0.128069</td>\n",
       "      <td>-0.273534</td>\n",
       "      <td>0.291512</td>\n",
       "      <td>-0.444413</td>\n",
       "      <td>-0.441808</td>\n",
       "      <td>-0.177383</td>\n",
       "      <td>1.000000</td>\n",
       "      <td>-0.366087</td>\n",
       "      <td>0.333461</td>\n",
       "    </tr>\n",
       "    <tr>\n",
       "      <th>LSTAT</th>\n",
       "      <td>0.455621</td>\n",
       "      <td>-0.412995</td>\n",
       "      <td>0.603800</td>\n",
       "      <td>-0.053929</td>\n",
       "      <td>0.590879</td>\n",
       "      <td>-0.613808</td>\n",
       "      <td>0.602339</td>\n",
       "      <td>-0.496996</td>\n",
       "      <td>0.488676</td>\n",
       "      <td>0.543993</td>\n",
       "      <td>0.374044</td>\n",
       "      <td>-0.366087</td>\n",
       "      <td>1.000000</td>\n",
       "      <td>-0.737663</td>\n",
       "    </tr>\n",
       "    <tr>\n",
       "      <th>Price</th>\n",
       "      <td>-0.388305</td>\n",
       "      <td>0.360445</td>\n",
       "      <td>-0.483725</td>\n",
       "      <td>0.175260</td>\n",
       "      <td>-0.427321</td>\n",
       "      <td>0.695360</td>\n",
       "      <td>-0.376955</td>\n",
       "      <td>0.249929</td>\n",
       "      <td>-0.381626</td>\n",
       "      <td>-0.468536</td>\n",
       "      <td>-0.507787</td>\n",
       "      <td>0.333461</td>\n",
       "      <td>-0.737663</td>\n",
       "      <td>1.000000</td>\n",
       "    </tr>\n",
       "  </tbody>\n",
       "</table>\n",
       "</div>"
      ],
      "text/plain": [
       "             CRIM        ZN     INDUS      CHAS       NOX        RM       AGE  \\\n",
       "CRIM     1.000000 -0.200469  0.406583 -0.055892  0.420972 -0.219247  0.352734   \n",
       "ZN      -0.200469  1.000000 -0.533828 -0.042697 -0.516604  0.311991 -0.569537   \n",
       "INDUS    0.406583 -0.533828  1.000000  0.062938  0.763651 -0.391676  0.644779   \n",
       "CHAS    -0.055892 -0.042697  0.062938  1.000000  0.091203  0.091251  0.086518   \n",
       "NOX      0.420972 -0.516604  0.763651  0.091203  1.000000 -0.302188  0.731470   \n",
       "RM      -0.219247  0.311991 -0.391676  0.091251 -0.302188  1.000000 -0.240265   \n",
       "AGE      0.352734 -0.569537  0.644779  0.086518  0.731470 -0.240265  1.000000   \n",
       "DIS     -0.379670  0.664408 -0.708027 -0.099176 -0.769230  0.205246 -0.747881   \n",
       "RAD      0.625505 -0.311948  0.595129 -0.007368  0.611441 -0.209847  0.456022   \n",
       "TAX      0.582764 -0.314563  0.720760 -0.035587  0.668023 -0.292048  0.506456   \n",
       "PTRATIO  0.289946 -0.391679  0.383248 -0.121515  0.188933 -0.355501  0.261515   \n",
       "B       -0.385064  0.175520 -0.356977  0.048788 -0.380051  0.128069 -0.273534   \n",
       "LSTAT    0.455621 -0.412995  0.603800 -0.053929  0.590879 -0.613808  0.602339   \n",
       "Price   -0.388305  0.360445 -0.483725  0.175260 -0.427321  0.695360 -0.376955   \n",
       "\n",
       "              DIS       RAD       TAX   PTRATIO         B     LSTAT     Price  \n",
       "CRIM    -0.379670  0.625505  0.582764  0.289946 -0.385064  0.455621 -0.388305  \n",
       "ZN       0.664408 -0.311948 -0.314563 -0.391679  0.175520 -0.412995  0.360445  \n",
       "INDUS   -0.708027  0.595129  0.720760  0.383248 -0.356977  0.603800 -0.483725  \n",
       "CHAS    -0.099176 -0.007368 -0.035587 -0.121515  0.048788 -0.053929  0.175260  \n",
       "NOX     -0.769230  0.611441  0.668023  0.188933 -0.380051  0.590879 -0.427321  \n",
       "RM       0.205246 -0.209847 -0.292048 -0.355501  0.128069 -0.613808  0.695360  \n",
       "AGE     -0.747881  0.456022  0.506456  0.261515 -0.273534  0.602339 -0.376955  \n",
       "DIS      1.000000 -0.494588 -0.534432 -0.232471  0.291512 -0.496996  0.249929  \n",
       "RAD     -0.494588  1.000000  0.910228  0.464741 -0.444413  0.488676 -0.381626  \n",
       "TAX     -0.534432  0.910228  1.000000  0.460853 -0.441808  0.543993 -0.468536  \n",
       "PTRATIO -0.232471  0.464741  0.460853  1.000000 -0.177383  0.374044 -0.507787  \n",
       "B        0.291512 -0.444413 -0.441808 -0.177383  1.000000 -0.366087  0.333461  \n",
       "LSTAT   -0.496996  0.488676  0.543993  0.374044 -0.366087  1.000000 -0.737663  \n",
       "Price    0.249929 -0.381626 -0.468536 -0.507787  0.333461 -0.737663  1.000000  "
      ]
     },
     "execution_count": 13,
     "metadata": {},
     "output_type": "execute_result"
    }
   ],
   "source": [
    "#check for corelation among columns in the dataframe\n",
    "\n",
    "corr = df.corr()\n",
    "corr"
   ]
  },
  {
   "cell_type": "code",
   "execution_count": 14,
   "id": "7040f1b2-d0af-4196-8053-021eee0b7dbf",
   "metadata": {},
   "outputs": [
    {
     "data": {
      "text/plain": [
       "(14, 14)"
      ]
     },
     "execution_count": 14,
     "metadata": {},
     "output_type": "execute_result"
    }
   ],
   "source": [
    "#check shape of correlation\n",
    "\n",
    "corr.shape"
   ]
  },
  {
   "cell_type": "code",
   "execution_count": 15,
   "id": "4d866703-b03b-4657-985a-b7dc390ce680",
   "metadata": {},
   "outputs": [
    {
     "data": {
      "text/plain": [
       "<AxesSubplot:>"
      ]
     },
     "execution_count": 15,
     "metadata": {},
     "output_type": "execute_result"
    },
    {
     "data": {
      "image/png": "[encoded data removed]",
      "text/plain": [
       "<Figure size 1200x1000 with 2 Axes>"
      ]
     },
     "metadata": {},
     "output_type": "display_data"
    }
   ],
   "source": [
    "#plot a heatmap to visualize the correlation \n",
    "\n",
    "plt.figure(figsize=(12,10))\n",
    "sns.heatmap(corr, cbar=True, square= True, fmt='.1f', annot=True, annot_kws={'size':15}, cmap='Greens')"
   ]
  },
  {
   "cell_type": "code",
   "execution_count": 16,
   "id": "299a4ab5-8f9e-4859-b683-1a263cf35148",
   "metadata": {},
   "outputs": [],
   "source": [
    "#assigning the independent and target variable\n",
    "\n",
    "X = df.drop(['Price'], axis = 1)\n",
    "y = df.Price"
   ]
  },
  {
   "cell_type": "code",
   "execution_count": 17,
   "id": "8a87a71f-61c7-4a10-8724-8fbfd50b6825",
   "metadata": {},
   "outputs": [],
   "source": [
    "#Splitting to testing and training data\n",
    "\n",
    "from sklearn.model_selection import train_test_split\n",
    "X_train, X_test, y_train, y_test = train_test_split(X, y, test_size = 0.3, random_state=4)"
   ]
  },
  {
   "cell_type": "code",
   "execution_count": 18,
   "id": "6e507329-05b7-4141-9c48-7f8c8da58280",
   "metadata": {},
   "outputs": [
    {
     "name": "stdout",
     "output_type": "stream",
     "text": [
      "(354, 13)\n",
      "(152, 13)\n",
      "(354,)\n",
      "(152,)\n"
     ]
    }
   ],
   "source": [
    "#printing shape of test and train data\n",
    "\n",
    "print(X_train.shape)\n",
    "print(X_test.shape)\n",
    "print(y_train.shape)\n",
    "print(y_test.shape)"
   ]
  },
  {
   "cell_type": "code",
   "execution_count": 19,
   "id": "bb411c94-398b-48c1-b22a-8d978af2d634",
   "metadata": {},
   "outputs": [],
   "source": [
    "# Training the model\n",
    "\n",
    "\n"
   ]
  },
  {
   "cell_type": "code",
   "execution_count": 20,
   "id": "d2446809-6643-4269-bcf4-500af6407926",
   "metadata": {},
   "outputs": [
    {
     "data": {
      "text/plain": [
       "LinearRegression()"
      ]
     },
     "execution_count": 20,
     "metadata": {},
     "output_type": "execute_result"
    }
   ],
   "source": [
    "#importing linear regression model\n",
    "\n",
    "from sklearn.linear_model import LinearRegression\n",
    "\n",
    "#assigning a linear regressor\n",
    "\n",
    "lm = LinearRegression()\n",
    "\n",
    "#training the model using training sets\n",
    "\n",
    "lm.fit(X_train, y_train)"
   ]
  },
  {
   "cell_type": "code",
   "execution_count": 21,
   "id": "81ea186d-8e4f-4ea4-9cfa-e212cf4211a7",
   "metadata": {},
   "outputs": [
    {
     "data": {
      "text/plain": [
       "36.357041376594964"
      ]
     },
     "execution_count": 21,
     "metadata": {},
     "output_type": "execute_result"
    }
   ],
   "source": [
    "#value of intercept\n",
    "\n",
    "intercept = lm.intercept_\n",
    "intercept"
   ]
  },
  {
   "cell_type": "code",
   "execution_count": 22,
   "id": "92452a82-9ed9-485b-be5d-f2753c8b93d1",
   "metadata": {},
   "outputs": [
    {
     "data": {
      "text/plain": [
       "array([-1.22569795e-01,  5.56776996e-02, -8.83428230e-03,  4.69344849e+00,\n",
       "       -1.44357828e+01,  3.28008033e+00, -3.44778157e-03, -1.55214419e+00,\n",
       "        3.26249618e-01, -1.40665500e-02, -8.03274915e-01,  9.35368715e-03,\n",
       "       -5.23477529e-01])"
      ]
     },
     "execution_count": 22,
     "metadata": {},
     "output_type": "execute_result"
    }
   ],
   "source": [
    "#value of slope\n",
    "\n",
    "slope = lm.coef_\n",
    "slope"
   ]
  },
  {
   "cell_type": "code",
   "execution_count": 23,
   "id": "14b04535-ffd8-4f17-981c-799bd67340ad",
   "metadata": {},
   "outputs": [],
   "source": [
    "#evaluation of model using linear regression\n",
    "\n"
   ]
  },
  {
   "cell_type": "code",
   "execution_count": 24,
   "id": "d788e1f4-46b8-456e-bfc7-1c979f0c54c0",
   "metadata": {},
   "outputs": [
    {
     "data": {
      "text/plain": [
       "array([24.52247959, 15.19750953, 25.5772058 , 13.93939959, 39.46651291,\n",
       "       17.45959949, 39.71029914, 16.51748069, 20.19733317, 40.7977555 ,\n",
       "       33.57245034, 14.50420619, 11.44514488, 23.06563951, 24.39734404,\n",
       "       25.01096096, 14.36116466, 28.28341539, 25.04931481, 22.42825155,\n",
       "       21.81588517, 18.85208726, 13.3562124 , 13.65792701, 23.64766018,\n",
       "       18.06876331, 16.12957228, 41.12414874, 19.43391814, 13.17980896,\n",
       "       12.88401778, 24.48360463, 24.47855835, 22.1443201 , 23.67882714,\n",
       "       16.25760322, 18.73996794,  6.65661308, 13.32321855, 15.97333187,\n",
       "       18.13637439, 20.60454402, 30.72884443,  7.75848746, 13.9207036 ,\n",
       "       -3.80684116, 30.22337446,  9.24045737, 11.75825936, 25.0286616 ,\n",
       "       18.84078418, 11.88476435, 28.69569373, 23.23374551, 28.59506092,\n",
       "       20.30414612, 20.27099511, 25.21759304, 29.00813278, 17.29931495,\n",
       "       10.61483731, 28.61476335, 28.34559327, 30.02547802, 17.11529423,\n",
       "       20.57024793, 18.28474144, 13.03972891, 23.08527124, 22.90261359,\n",
       "       20.38074908, 36.37414868, 20.26621151, 21.57778471, 14.51678385,\n",
       "       19.8953567 , 21.51131918, 32.08090183, 35.12834332, 31.36704913,\n",
       "       23.32859519, 22.59388715,  4.2838954 , 13.58551483, 17.84671145,\n",
       "       22.39664149, 20.39218149, 21.10186967, 16.48607917, 20.89919772,\n",
       "       19.24881766, 21.06506621, 33.14030608, 32.78970133, 14.78281   ,\n",
       "       21.74354375, 27.16260271,  6.88304858, 20.34936977, 21.11588523,\n",
       "       22.81012375, 25.39687827, 30.23966814, 14.62421558, 25.45042561,\n",
       "       42.4032797 , 13.00311155, 17.23560015, 13.03879388, 16.43177226,\n",
       "       16.78793009, 18.97978513, 22.65365079, 20.56436157, 29.30683492,\n",
       "       21.77542094, 22.35785257, 24.66179729, 27.39184783, 33.36778289,\n",
       "       18.60406   , 24.84058236, 21.87737973, 19.94977795, 20.2320981 ,\n",
       "       28.80459631, 29.86452531, 19.0848428 , 23.73428397, 18.95219368,\n",
       "        8.97390019, 26.75912306, 17.27253903, 14.55622874, 23.08500269,\n",
       "       25.02655397, 25.16822738, 26.69701146, 19.54226068,  9.02486456,\n",
       "       19.83161456, 24.7979826 , 25.91255945, 15.88668039, 25.06758329,\n",
       "       23.43543477, 20.22343755, 36.60456605, 35.87394807, 14.16498026,\n",
       "       35.7639938 , 26.89548837, 19.53419979, 24.0319941 , 18.32092746,\n",
       "       19.34979091, 19.98984953, 30.84128072, 26.64756547, 32.78247806,\n",
       "       14.78316127, 22.45545196, 15.81526628, 23.56128263, 21.7242162 ,\n",
       "       27.32126354, 31.01013789, 22.81223613, 18.13416079, 45.69032277,\n",
       "       17.1939182 , 24.10802533, 26.59321259, 15.60279544, 21.02771101,\n",
       "        7.44005131, 22.17053479, 23.66051183, 31.01185063, 14.55358282,\n",
       "       31.67018192, 21.97556068, 29.68281335, 22.63575956, 20.8096207 ,\n",
       "       24.64566263, 24.99554971, 25.01653794, 33.51995131,  9.17715777,\n",
       "       20.22700039, 14.11833626, 11.89907312, 17.32844649,  7.8211504 ,\n",
       "       16.4015338 , 25.03819927, 34.52082211, 18.69844879, 12.54415505,\n",
       "       27.52362409, 18.14569097, 32.62591972, 18.81336522, 25.34819514,\n",
       "       10.30630161, 20.97762312, 16.75364295, 24.79811585, 34.51812328,\n",
       "       17.5962357 , 16.81995806, 22.52681599, 34.49248022, 24.37976859,\n",
       "       26.3891315 , 28.2701436 , 20.64370006, 22.02979521, 24.40052032,\n",
       "       21.55933518, 20.76505653, 21.35398659, 21.63454359,  4.66800164,\n",
       "       19.78493866, 15.48836079, 22.14765613, 23.52375126, 17.59029302,\n",
       "       25.13686178, 14.95557981, 36.75987631, 33.2559292 , 31.61517802,\n",
       "       20.90157211, 10.03744596, 20.9447537 , 37.08766373, 21.01939321,\n",
       "       34.32376634, 13.85900709, 34.22456075, 19.32066433, 17.65498064,\n",
       "        5.24826916, 34.88064127, 23.84714723, 22.47313566, 18.27631394,\n",
       "       20.56812098, 17.77668675, 26.16651954, 18.259761  ,  7.23026096,\n",
       "       23.31459663, 15.86666632,  7.22490521, 28.20893505, 16.76862409,\n",
       "       15.76240974, 18.24652915, 23.96087459, 20.78378432, 24.50433793,\n",
       "       35.21593709, 23.53739443, 20.95954548, 21.34702919, 32.24233771,\n",
       "       21.03836719, 27.38910962, 11.90350999, 27.91947755, 29.75232698,\n",
       "       31.85739443, 32.40263439, 33.45022214, 21.98205792, 25.13087325,\n",
       "       34.68748318, 19.88892304, 13.34808093, 29.86667097, 16.05575864,\n",
       "       33.58539138, 24.82396668, 18.73520405, 25.53501563, 32.74769528,\n",
       "       23.70442095, 27.64551933, 26.49800198, 12.09728846, 21.00340178,\n",
       "       21.58838992, 17.42189106, 28.17731487, 34.11882749, 17.78837317,\n",
       "       24.85777712, 36.14387743, 28.09586722,  2.2097601 , 27.67952556,\n",
       "       26.81582736, 35.21436795, 12.99108512, 16.35766119, 27.00345932,\n",
       "       25.42702449, 13.11240734, 27.51069857, 19.01462202, 22.97871867,\n",
       "       17.06885216, 16.05089171, 11.88063208,  6.86396864, 26.14095608,\n",
       "       31.12264996, 24.76013181, 18.63369868, 29.02792362, 15.15549492,\n",
       "       17.9944167 , 30.76172229, 29.54307499,  6.25936797, 27.17935245,\n",
       "       14.80595579, 23.59443828, 22.6686058 , 16.02071242, 24.05810667,\n",
       "       20.66133508, 25.37935258, 27.55369062, 26.95070997, 26.7556681 ,\n",
       "       19.8699349 , 19.69025622, 24.33259862, 21.92486901, 20.3544687 ,\n",
       "       35.33844969, 13.00764099, 25.81335033, 22.95996791,  8.60836873,\n",
       "       31.51107779, 13.64719071, 26.5010622 , 20.54096512])"
      ]
     },
     "execution_count": 24,
     "metadata": {},
     "output_type": "execute_result"
    }
   ],
   "source": [
    "#model prediction on train data\n",
    "\n",
    "y_pred = lm.predict(X_train)\n",
    "y_pred"
   ]
  },
  {
   "cell_type": "code",
   "execution_count": 25,
   "id": "f351cb5b-731c-49b9-8262-27279157244d",
   "metadata": {},
   "outputs": [],
   "source": [
    "#model evaluation\n",
    "\n"
   ]
  },
  {
   "cell_type": "code",
   "execution_count": 26,
   "id": "aada0fb6-635a-4d62-ba24-309cd96725ce",
   "metadata": {},
   "outputs": [
    {
     "name": "stdout",
     "output_type": "stream",
     "text": [
      "MSE is 19.07368870346903\n"
     ]
    }
   ],
   "source": [
    "#mean square error value of train data\n",
    "\n",
    "from sklearn.metrics import mean_squared_error\n",
    "mse = mean_squared_error(y_train, y_pred)\n",
    "print (f'MSE is {mse}')"
   ]
  },
  {
   "cell_type": "code",
   "execution_count": 27,
   "id": "45a224de-29f8-46aa-9d02-2c4b26364101",
   "metadata": {},
   "outputs": [
    {
     "name": "stdout",
     "output_type": "stream",
     "text": [
      "R^2 is 0.7465991966746854\n"
     ]
    }
   ],
   "source": [
    "#R^2 score value of train data\n",
    "\n",
    "r2 = metrics.r2_score(y_train, y_pred)\n",
    "print(f'R^2 is {r2}')"
   ]
  },
  {
   "cell_type": "code",
   "execution_count": 28,
   "id": "7f489eab-a1d3-4bd8-95b5-7e69b031282f",
   "metadata": {},
   "outputs": [
    {
     "name": "stdout",
     "output_type": "stream",
     "text": [
      "RMSE is 4.367343437774162\n"
     ]
    }
   ],
   "source": [
    "#root mean square error of train data\n",
    "\n",
    "rmse = np.sqrt(metrics.mean_squared_error(y_train, y_pred))\n",
    "print (f'RMSE is {rmse}')"
   ]
  },
  {
   "cell_type": "code",
   "execution_count": 29,
   "id": "943c012f-ac5d-40dc-bb0f-4bc7be362cdb",
   "metadata": {},
   "outputs": [
    {
     "data": {
      "text/plain": [
       "array([11.07380893, 26.47910329, 17.34489869, 19.1948608 , 36.36170735,\n",
       "       24.77095832, 31.00051311, 19.94226881, 19.22375105, 24.42998435,\n",
       "       28.31512637, 28.40796034, 19.27427968, 33.82295207, 21.28596487,\n",
       "       15.11171444, 20.97688767, 11.28556596, 11.8611348 , 13.88444387,\n",
       "        5.37422679, 17.55278177, 20.58171204, 22.59849951, 16.07544265,\n",
       "       20.45924503, 19.1068775 , 14.37832191, 21.23235601, 17.52186564,\n",
       "       14.40725559, 23.68483414, 33.7410661 , 22.02733357, 17.62139147,\n",
       "       19.97241153, 30.24069397, 34.69718954, 23.85821534, 24.30715093,\n",
       "       36.13378112, 31.97532293, 19.626175  , 31.61097971, 34.58127809,\n",
       "       25.62718797, 39.95041812, 17.60880538, 19.90319708, 23.40417501,\n",
       "       33.70182396, 25.62491083, 18.25559302, 27.27317174, 13.46377871,\n",
       "       23.43470656, 24.43721849, 33.52056736, 16.99896935, 37.94464404,\n",
       "       15.94567818, 19.32528916, 31.84088262, 15.25081303, 38.40344789,\n",
       "       27.45372884, 34.36154312,  9.37353936, 19.42580066, 21.99218459,\n",
       "       22.79983394, 22.50810313, 22.30918714, 27.84395887, 16.40818345,\n",
       "       22.55507669, 16.5147332 , 25.11106836, 13.76991927, 19.78656399,\n",
       "       22.10247463, 20.26663237, 28.15165586, 19.52050766, 30.33254364,\n",
       "       22.79109999, 29.2663436 , 19.43113706, 24.7968264 , 37.46275648,\n",
       "       31.05503576, 41.3372879 , 18.46365381, 36.67964528, 19.40842405,\n",
       "       23.61810063, 27.93475362, 24.41825213,  9.4599059 , 20.68088677,\n",
       "        8.99426788, 28.4492398 , 31.88237066, 14.04302958, 24.8347909 ,\n",
       "       19.94124425, 36.90271393, 31.06556982, 33.91883403, 28.64591536,\n",
       "       31.1007263 , 22.82363163, 11.58125942, 29.46902405, 37.06066106,\n",
       "       23.01945872, 41.79865192, 18.44334162,  3.433324  , 18.57485663,\n",
       "       22.21257489, 16.71192648, 28.00473344, 28.42374739, 19.6417452 ,\n",
       "       18.76090758, 35.37631447, 13.12349548, 14.73923539, 18.16202333,\n",
       "       38.26604753, 15.97821613, 41.91544265, 30.44631625, 28.65848089,\n",
       "       24.19590457, 12.06559683, 26.01408744, 23.25012698, 18.92506857,\n",
       "       17.05016777, 17.50245392, 20.89247338, 24.62630514,  1.82167558,\n",
       "       23.03969555, 19.35693345, 17.89193065, 38.43943954, 19.7075262 ,\n",
       "       31.67181183, 19.0130913 ])"
      ]
     },
     "execution_count": 29,
     "metadata": {},
     "output_type": "execute_result"
    }
   ],
   "source": [
    "#model prediction on test data\n",
    "\n",
    "y_pred_test = lm.predict(X_test)\n",
    "y_pred_test"
   ]
  },
  {
   "cell_type": "code",
   "execution_count": 30,
   "id": "0fc599d3-eae6-4c6d-9f28-ac5775656b30",
   "metadata": {},
   "outputs": [
    {
     "name": "stdout",
     "output_type": "stream",
     "text": [
      "R^2 is 0.7121818377409183\n"
     ]
    }
   ],
   "source": [
    "#R^2 score value of test data\n",
    "\n",
    "r2 = metrics.r2_score(y_test, y_pred_test)\n",
    "print(f'R^2 is {r2}')"
   ]
  },
  {
   "cell_type": "code",
   "execution_count": 31,
   "id": "511d00c0-ba33-402f-bba3-6e0a5379f8b4",
   "metadata": {},
   "outputs": [
    {
     "name": "stdout",
     "output_type": "stream",
     "text": [
      "MSE is 30.053993307124266\n"
     ]
    }
   ],
   "source": [
    "#mean square error value of test data\n",
    "\n",
    "mse = mean_squared_error(y_test, y_pred_test)\n",
    "print (f'MSE is {mse}')"
   ]
  },
  {
   "cell_type": "code",
   "execution_count": 32,
   "id": "af2a7ca2-3257-4f1a-b103-8473dd7b065d",
   "metadata": {},
   "outputs": [
    {
     "name": "stdout",
     "output_type": "stream",
     "text": [
      "RMSE is 5.482152251362987\n"
     ]
    }
   ],
   "source": [
    "#root mean square error value of test data\n",
    "\n",
    "rmse = np.sqrt(metrics.mean_squared_error(y_test, y_pred_test))\n",
    "print (f'RMSE is {rmse}')"
   ]
  },
  {
   "cell_type": "code",
   "execution_count": 33,
   "id": "d8c63410-a721-490b-bb34-8118e9eeee66",
   "metadata": {},
   "outputs": [
    {
     "data": {
      "image/png": "[encoded data removed]",
      "text/plain": [
       "<Figure size 640x480 with 1 Axes>"
      ]
     },
     "metadata": {},
     "output_type": "display_data"
    }
   ],
   "source": [
    "#visualizing the differences between actual prices and predicted prices\n",
    "\n",
    "plt.scatter(y_train,y_pred)\n",
    "plt.title(\"Actual prices vs Predicted prices\")\n",
    "plt.xlabel(\"Predicted prices\")\n",
    "plt.ylabel(\"Actual prices\")\n",
    "plt.show()"
   ]
  },
  {
   "cell_type": "code",
   "execution_count": 34,
   "id": "6cee3037-41d9-43dc-892a-64a556eea606",
   "metadata": {},
   "outputs": [
    {
     "name": "stderr",
     "output_type": "stream",
     "text": [
      "/Users/adebayosakiru/opt/anaconda3/lib/python3.9/site-packages/seaborn/distributions.py:2619: FutureWarning: `distplot` is a deprecated function and will be removed in a future version. Please adapt your code to use either `displot` (a figure-level function with similar flexibility) or `histplot` (an axes-level function for histograms).\n",
      "  warnings.warn(msg, FutureWarning)\n"
     ]
    },
    {
     "data": {
      "image/png": "[encoded data removed]",
      "text/plain": [
       "<Figure size 640x480 with 1 Axes>"
      ]
     },
     "metadata": {},
     "output_type": "display_data"
    }
   ],
   "source": [
    "#distribution plot to check for normality of errors\n",
    "sns.distplot(y_train-y_pred)\n",
    "plt.title(\"Histogram of Residuals\")\n",
    "plt.xlabel(\"Residuals\")\n",
    "plt.ylabel(\"Frequency\")\n",
    "plt.show()"
   ]
  },
  {
   "cell_type": "code",
   "execution_count": 35,
   "id": "a28ab026-bcde-48db-bb03-a39750daa685",
   "metadata": {},
   "outputs": [],
   "source": [
    "\n",
    "#evaluation of model using support vector machine"
   ]
  },
  {
   "cell_type": "code",
   "execution_count": 36,
   "id": "74032f27-5e10-4ad5-a4f7-0214b164df6c",
   "metadata": {},
   "outputs": [],
   "source": [
    "from sklearn import svm\n",
    "from sklearn.preprocessing import StandardScaler\n",
    "\n",
    "sc = StandardScaler()\n",
    "X_train = sc.fit_transform(X_train)\n",
    "X_test = sc.transform(X_test)\n"
   ]
  },
  {
   "cell_type": "code",
   "execution_count": 37,
   "id": "0368a41b-ced6-4e56-9e85-56efc0c55c87",
   "metadata": {},
   "outputs": [
    {
     "data": {
      "text/plain": [
       "SVR()"
      ]
     },
     "execution_count": 37,
     "metadata": {},
     "output_type": "execute_result"
    }
   ],
   "source": [
    "#training the model using training sets\n",
    "reg = svm.SVR()\n",
    "reg.fit(X_train, y_train)"
   ]
  },
  {
   "cell_type": "code",
   "execution_count": 38,
   "id": "b45bd5ce-73b8-47cd-b7da-408612134c82",
   "metadata": {},
   "outputs": [
    {
     "data": {
      "text/plain": [
       "array([23.86494587, 19.91150003, 21.79984564, 15.53703846, 34.02546519,\n",
       "       19.73274461, 32.59747715, 15.05468902, 21.60482169, 25.19238108,\n",
       "       31.48859251, 13.08228021, 16.41729745, 21.64028355, 23.76190034,\n",
       "       23.77252256, 18.59385973, 22.01383969, 22.88860472, 20.13662466,\n",
       "       20.64184005, 17.09053974, 16.90642061, 15.33794008, 24.16241418,\n",
       "       14.28372759, 17.65782368, 27.48317144, 20.10211034, 13.68149878,\n",
       "       19.46967903, 22.23091192, 23.26439445, 20.13515571, 23.66286943,\n",
       "       17.50018909, 16.54403764, 11.89917835, 12.14399337, 20.76080675,\n",
       "       18.18637823, 21.11277622, 29.23114073, 17.56937427, 12.376143  ,\n",
       "       16.46012426, 27.23678311, 16.75508625, 11.35753045, 24.48843701,\n",
       "       18.19126147, 10.87392193, 25.61938169, 22.1395693 , 24.69142731,\n",
       "       18.30433557, 16.29196466, 24.21367071, 24.90000428, 15.57141036,\n",
       "       11.77427961, 23.41515601, 26.654883  , 28.54717974, 14.20061989,\n",
       "       18.59325751, 19.41360915, 16.63762815, 22.4242584 , 20.84941386,\n",
       "       20.29570168, 32.63524812, 16.50696207, 19.36248949, 14.25167524,\n",
       "       19.10795583, 21.72777363, 29.88673115, 33.37798433, 31.27621416,\n",
       "       21.23854887, 20.80083115, 11.83584582, 12.36257318, 14.21441524,\n",
       "       21.09718856, 18.81566315, 20.09265809, 16.97601944, 20.82736078,\n",
       "       18.49819229, 21.48736174, 31.38816722, 28.57110316, 13.47547731,\n",
       "       20.89180465, 24.83248813, 11.12386744, 19.60307062, 23.98761441,\n",
       "       20.50668307, 23.40044248, 25.03858398, 17.94966259, 24.25338601,\n",
       "       30.29024084, 11.63392286, 17.52007529, 14.85943594, 13.43271633,\n",
       "       15.95458316, 16.30013802, 21.8080845 , 20.64692992, 26.59193485,\n",
       "       22.47585589, 22.71995114, 24.6391301 , 24.99037878, 29.53124203,\n",
       "       18.45942393, 22.3381924 , 20.36756896, 19.30520298, 22.85290451,\n",
       "       25.6454602 , 26.93461363, 18.70097213, 22.50029345, 18.31553376,\n",
       "       16.24834858, 23.58405913, 14.31109092, 15.82737673, 21.85812671,\n",
       "       21.5996653 , 22.66144077, 24.89836223, 20.82509193, 13.43175934,\n",
       "       21.13991481, 23.89966464, 25.16733485, 13.50947972, 24.36229341,\n",
       "       21.41937549, 19.07227658, 26.55184229, 33.61439507, 15.44822093,\n",
       "       31.52651574, 25.03748178, 19.52599336, 20.88619418, 15.77641173,\n",
       "       16.487946  , 22.97284293, 29.33920264, 24.88405844, 26.39704423,\n",
       "       14.77167745, 20.19994982, 16.50003885, 22.93504283, 25.16849214,\n",
       "       28.22474797, 27.16987872, 22.11508679, 15.10494153, 25.10387082,\n",
       "       17.34821321, 23.319561  , 21.79540899, 12.57185771, 21.72732621,\n",
       "       12.30749673, 19.84792763, 25.14844399, 27.7390757 , 12.87762247,\n",
       "       30.21109028, 20.43575875, 29.84847797, 20.18867826, 20.95938896,\n",
       "       21.75564026, 23.91080311, 23.51439051, 30.6674109 , 14.85745293,\n",
       "       18.58806113, 17.46272502, 18.13824118, 20.70017674, 14.81192738,\n",
       "       14.17810526, 24.13838739, 29.85312269, 19.52103169, 16.93715326,\n",
       "       26.74669992, 20.35284121, 30.02208671, 19.94247452, 23.22547195,\n",
       "       16.54220018, 22.17980247, 12.81414793, 23.61234116, 28.62518572,\n",
       "       15.84660484, 14.79975619, 19.868356  , 32.66998401, 23.14320565,\n",
       "       23.3048527 , 25.9370605 , 18.89637235, 21.329798  , 21.58624355,\n",
       "       20.4517428 , 19.59608889, 20.99879281, 17.80606628, 14.49976665,\n",
       "       19.62971535, 16.29966523, 21.24149796, 21.69452598, 17.4915544 ,\n",
       "       23.66472941, 16.27504779, 27.33343721, 25.84861288, 25.19997688,\n",
       "       20.85855682, 12.11774105, 21.12682134, 33.41397923, 21.01708139,\n",
       "       29.01112439, 12.25228269, 31.59289807, 18.85377603, 15.09797243,\n",
       "       12.07066822, 28.58926286, 22.34813058, 19.98689063, 19.57055787,\n",
       "       21.21623477, 13.89255242, 25.25071798, 17.61892075, 11.20342646,\n",
       "       22.96829038, 13.84967518, 10.90870356, 24.11407821, 20.41115752,\n",
       "       19.47412239, 14.15726925, 24.44555409, 21.21994354, 22.31560735,\n",
       "       31.53054937, 21.71716553, 18.98563999, 20.4094258 , 26.46175156,\n",
       "       21.33540113, 26.13625917, 10.69968962, 23.88627933, 26.74837361,\n",
       "       31.45201864, 31.60010261, 28.33129008, 18.68115506, 22.22195013,\n",
       "       30.42893591, 19.88856809, 12.07276735, 28.70348311, 16.77772934,\n",
       "       25.70394121, 22.55687413, 19.50006928, 23.33747601, 29.43809955,\n",
       "       23.50033421, 26.03497443, 26.9052406 , 16.50705934, 20.48887967,\n",
       "       21.23551067, 14.76790069, 26.6581981 , 32.81395789, 17.56476564,\n",
       "       19.40458592, 23.64325535, 27.9469287 , 15.32011701, 24.02303847,\n",
       "       23.81405951, 29.6008712 , 12.10350945, 14.93042436, 25.08939579,\n",
       "       23.32021226, 12.93986893, 26.50287392, 16.32119191, 21.6279404 ,\n",
       "       17.76703205, 16.63593183, 14.70742973, 12.02183633, 23.30365569,\n",
       "       27.31955115, 23.60581758, 15.85779496, 24.1999247 , 17.72635677,\n",
       "       17.52205129, 25.86067246, 28.29416261, 10.64569552, 25.88578233,\n",
       "       16.815693  , 22.28670257, 21.96083215, 13.27805994, 22.03767202,\n",
       "       19.24911363, 22.89711826, 24.20874421, 24.02628705, 22.57570002,\n",
       "       18.46001093, 18.76319913, 25.70896754, 22.075379  , 16.90614765,\n",
       "       31.67199473, 13.54878801, 22.86931247, 20.71947117, 10.40041783,\n",
       "       27.49341131, 12.69969014, 22.49975134, 18.99701009])"
      ]
     },
     "execution_count": 38,
     "metadata": {},
     "output_type": "execute_result"
    }
   ],
   "source": [
    "y_pred = reg.predict(X_train)\n",
    "y_pred"
   ]
  },
  {
   "cell_type": "code",
   "execution_count": 39,
   "id": "5e429cf2-dbfe-43b0-a824-5e823e107859",
   "metadata": {},
   "outputs": [
    {
     "name": "stdout",
     "output_type": "stream",
     "text": [
      "MSE is 26.953752101332935\n"
     ]
    }
   ],
   "source": [
    "from sklearn.metrics import mean_squared_error\n",
    "mse = mean_squared_error(y_train, y_pred)\n",
    "print (f'MSE is {mse}')"
   ]
  },
  {
   "cell_type": "code",
   "execution_count": 40,
   "id": "961f7ca5-d0e3-4b56-bf98-3e434e94b363",
   "metadata": {},
   "outputs": [
    {
     "name": "stdout",
     "output_type": "stream",
     "text": [
      "R^2 is 0.6419097248941195\n"
     ]
    }
   ],
   "source": [
    "#R^2 score value of train data\n",
    "\n",
    "r2 = metrics.r2_score(y_train, y_pred)\n",
    "print(f'R^2 is {r2}')"
   ]
  },
  {
   "cell_type": "code",
   "execution_count": 41,
   "id": "55634fc3-05fb-49ee-a4b6-bfa57effd2e8",
   "metadata": {},
   "outputs": [
    {
     "data": {
      "text/plain": [
       "array([17.13744078, 25.18466352, 18.63978868, 20.43272156, 32.99401666,\n",
       "       24.3694027 , 27.20056758, 18.23899617, 14.24415909, 20.84653662,\n",
       "       28.07714969, 25.94142087, 18.97279015, 23.44424671, 21.14298351,\n",
       "       13.61443085, 20.76164011, 11.67848481, 12.52830214, 15.56816082,\n",
       "       19.46706841, 18.58983602, 18.89095506, 20.33876527, 19.58785022,\n",
       "       18.87106753, 20.29297789, 15.85996192, 16.64678105, 16.59551664,\n",
       "       12.69147532, 22.38750427, 31.09507004, 20.35774179, 15.38096301,\n",
       "       15.61798146, 29.97740959, 32.11682922, 22.79328637, 23.03693666,\n",
       "       30.23345558, 27.78447173, 15.73316187, 28.14054531, 25.52232373,\n",
       "       21.60546556, 31.3792258 , 18.16072416, 18.35941228, 22.93583205,\n",
       "       27.58232351, 23.84874813, 14.4350854 , 26.27679629, 15.41096467,\n",
       "       21.26084851, 23.08609615, 30.04298105, 18.75437799, 26.57897337,\n",
       "       16.94453116, 17.52588413, 27.94003283, 18.47120803, 33.83922295,\n",
       "       25.49879347, 23.45226065, 12.29802528, 18.66535685, 22.13224574,\n",
       "       22.06903556, 21.77736495, 24.14683633, 26.55693271, 17.26328273,\n",
       "       25.0687586 , 16.61507526, 23.81892162, 15.49669455, 18.79754565,\n",
       "       20.55146953, 17.11142545, 27.25011798, 18.92728476, 27.12361851,\n",
       "       20.23702042, 29.93885262, 18.66811282, 22.66328591, 34.42593863,\n",
       "       27.72577013, 30.33445799, 18.14600999, 33.42226659, 20.51426773,\n",
       "       21.04662636, 23.32531997, 21.13868362, 16.77542316, 20.13983567,\n",
       "       12.0822706 , 23.12916879, 30.15351845, 15.33302541, 24.51994328,\n",
       "       19.79097146, 29.88217734, 27.77195432, 31.87519565, 25.18227056,\n",
       "       23.8502502 , 20.60300537, 19.12809236, 27.70033758, 27.2464669 ,\n",
       "       19.16137651, 25.00200068, 15.55058945, 14.57803014, 18.04731386,\n",
       "       21.10816666, 14.04914642, 26.1197859 , 26.32851458, 18.17655813,\n",
       "       17.5162631 , 29.62980545, 13.30137359, 15.45623953, 15.01914021,\n",
       "       32.29952451, 16.51340952, 31.85704181, 28.02005243, 28.04621905,\n",
       "       21.87528924, 12.13023722, 24.34994288, 20.38001686, 17.82297019,\n",
       "       19.82434414, 13.62338368, 22.29821716, 18.97410233, 13.72364656,\n",
       "       19.4971623 , 15.83204816, 15.13949458, 22.79303278, 19.35458133,\n",
       "       26.91828424, 15.55830594])"
      ]
     },
     "execution_count": 41,
     "metadata": {},
     "output_type": "execute_result"
    }
   ],
   "source": [
    "#model prediction on test data\n",
    "\n",
    "y_pred_test = reg.predict(X_test)\n",
    "y_pred_test "
   ]
  },
  {
   "cell_type": "code",
   "execution_count": 42,
   "id": "7b315d07-f15e-48d0-9688-adbb139663e3",
   "metadata": {},
   "outputs": [
    {
     "name": "stdout",
     "output_type": "stream",
     "text": [
      "MSE is 42.81057499010247\n"
     ]
    }
   ],
   "source": [
    "from sklearn.metrics import mean_squared_error\n",
    "mse = mean_squared_error(y_test, y_pred_test)\n",
    "print (f'MSE is {mse}')\n"
   ]
  },
  {
   "cell_type": "code",
   "execution_count": 43,
   "id": "bc29e8fd-66d2-4a65-bd29-9c94777b89e7",
   "metadata": {},
   "outputs": [
    {
     "name": "stdout",
     "output_type": "stream",
     "text": [
      "R^2 is 0.5900158460478174\n"
     ]
    }
   ],
   "source": [
    "r2 = metrics.r2_score(y_test, y_pred_test)\n",
    "print(f'R^2 is {r2}')"
   ]
  }
 ],
 "metadata": {
  "kernelspec": {
   "display_name": "Python 3 (ipykernel)",
   "language": "python",
   "name": "python3"
  },
  "language_info": {
   "codemirror_mode": {
    "name": "ipython",
    "version": 3
   },
   "file_extension": ".py",
   "mimetype": "text/x-python",
   "name": "python",
   "nbconvert_exporter": "python",
   "pygments_lexer": "ipython3",
   "version": "3.9.13"
  }
 },
 "nbformat": 4,
 "nbformat_minor": 5
}
